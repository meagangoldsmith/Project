{
  "nbformat": 4,
  "nbformat_minor": 0,
  "metadata": {
    "colab": {
      "provenance": [],
      "gpuType": "T4",
      "authorship_tag": "ABX9TyN0IKrrB+HanCPn43vsQS0K",
      "include_colab_link": true
    },
    "kernelspec": {
      "name": "python3",
      "display_name": "Python 3"
    },
    "language_info": {
      "name": "python"
    },
    "accelerator": "GPU"
  },
  "cells": [
    {
      "cell_type": "markdown",
      "metadata": {
        "id": "view-in-github",
        "colab_type": "text"
      },
      "source": [
        "<a href=\"https://colab.research.google.com/github/meagangoldsmith/Project/blob/main/chatbot2.ipynb\" target=\"_parent\"><img src=\"https://colab.research.google.com/assets/colab-badge.svg\" alt=\"Open In Colab\"/></a>"
      ]
    },
    {
      "cell_type": "code",
      "execution_count": null,
      "metadata": {
        "colab": {
          "base_uri": "https://localhost:8080/"
        },
        "id": "hSUUiAlprWdE",
        "outputId": "1a20f22b-2799-4afc-b709-377214fa2a7f"
      },
      "outputs": [
        {
          "output_type": "stream",
          "name": "stdout",
          "text": [
            "Requirement already satisfied: tensorflow in /usr/local/lib/python3.10/dist-packages (2.15.0)\n",
            "Requirement already satisfied: absl-py>=1.0.0 in /usr/local/lib/python3.10/dist-packages (from tensorflow) (1.4.0)\n",
            "Requirement already satisfied: astunparse>=1.6.0 in /usr/local/lib/python3.10/dist-packages (from tensorflow) (1.6.3)\n",
            "Requirement already satisfied: flatbuffers>=23.5.26 in /usr/local/lib/python3.10/dist-packages (from tensorflow) (24.3.25)\n",
            "Requirement already satisfied: gast!=0.5.0,!=0.5.1,!=0.5.2,>=0.2.1 in /usr/local/lib/python3.10/dist-packages (from tensorflow) (0.5.4)\n",
            "Requirement already satisfied: google-pasta>=0.1.1 in /usr/local/lib/python3.10/dist-packages (from tensorflow) (0.2.0)\n",
            "Requirement already satisfied: h5py>=2.9.0 in /usr/local/lib/python3.10/dist-packages (from tensorflow) (3.9.0)\n",
            "Requirement already satisfied: libclang>=13.0.0 in /usr/local/lib/python3.10/dist-packages (from tensorflow) (18.1.1)\n",
            "Requirement already satisfied: ml-dtypes~=0.2.0 in /usr/local/lib/python3.10/dist-packages (from tensorflow) (0.2.0)\n",
            "Requirement already satisfied: numpy<2.0.0,>=1.23.5 in /usr/local/lib/python3.10/dist-packages (from tensorflow) (1.25.2)\n",
            "Requirement already satisfied: opt-einsum>=2.3.2 in /usr/local/lib/python3.10/dist-packages (from tensorflow) (3.3.0)\n",
            "Requirement already satisfied: packaging in /usr/local/lib/python3.10/dist-packages (from tensorflow) (24.0)\n",
            "Requirement already satisfied: protobuf!=4.21.0,!=4.21.1,!=4.21.2,!=4.21.3,!=4.21.4,!=4.21.5,<5.0.0dev,>=3.20.3 in /usr/local/lib/python3.10/dist-packages (from tensorflow) (3.20.3)\n",
            "Requirement already satisfied: setuptools in /usr/local/lib/python3.10/dist-packages (from tensorflow) (67.7.2)\n",
            "Requirement already satisfied: six>=1.12.0 in /usr/local/lib/python3.10/dist-packages (from tensorflow) (1.16.0)\n",
            "Requirement already satisfied: termcolor>=1.1.0 in /usr/local/lib/python3.10/dist-packages (from tensorflow) (2.4.0)\n",
            "Requirement already satisfied: typing-extensions>=3.6.6 in /usr/local/lib/python3.10/dist-packages (from tensorflow) (4.10.0)\n",
            "Requirement already satisfied: wrapt<1.15,>=1.11.0 in /usr/local/lib/python3.10/dist-packages (from tensorflow) (1.14.1)\n",
            "Requirement already satisfied: tensorflow-io-gcs-filesystem>=0.23.1 in /usr/local/lib/python3.10/dist-packages (from tensorflow) (0.36.0)\n",
            "Requirement already satisfied: grpcio<2.0,>=1.24.3 in /usr/local/lib/python3.10/dist-packages (from tensorflow) (1.62.1)\n",
            "Requirement already satisfied: tensorboard<2.16,>=2.15 in /usr/local/lib/python3.10/dist-packages (from tensorflow) (2.15.2)\n",
            "Requirement already satisfied: tensorflow-estimator<2.16,>=2.15.0 in /usr/local/lib/python3.10/dist-packages (from tensorflow) (2.15.0)\n",
            "Requirement already satisfied: keras<2.16,>=2.15.0 in /usr/local/lib/python3.10/dist-packages (from tensorflow) (2.15.0)\n",
            "Requirement already satisfied: wheel<1.0,>=0.23.0 in /usr/local/lib/python3.10/dist-packages (from astunparse>=1.6.0->tensorflow) (0.43.0)\n",
            "Requirement already satisfied: google-auth<3,>=1.6.3 in /usr/local/lib/python3.10/dist-packages (from tensorboard<2.16,>=2.15->tensorflow) (2.27.0)\n",
            "Requirement already satisfied: google-auth-oauthlib<2,>=0.5 in /usr/local/lib/python3.10/dist-packages (from tensorboard<2.16,>=2.15->tensorflow) (1.2.0)\n",
            "Requirement already satisfied: markdown>=2.6.8 in /usr/local/lib/python3.10/dist-packages (from tensorboard<2.16,>=2.15->tensorflow) (3.6)\n",
            "Requirement already satisfied: requests<3,>=2.21.0 in /usr/local/lib/python3.10/dist-packages (from tensorboard<2.16,>=2.15->tensorflow) (2.31.0)\n",
            "Requirement already satisfied: tensorboard-data-server<0.8.0,>=0.7.0 in /usr/local/lib/python3.10/dist-packages (from tensorboard<2.16,>=2.15->tensorflow) (0.7.2)\n",
            "Requirement already satisfied: werkzeug>=1.0.1 in /usr/local/lib/python3.10/dist-packages (from tensorboard<2.16,>=2.15->tensorflow) (3.0.2)\n",
            "Requirement already satisfied: cachetools<6.0,>=2.0.0 in /usr/local/lib/python3.10/dist-packages (from google-auth<3,>=1.6.3->tensorboard<2.16,>=2.15->tensorflow) (5.3.3)\n",
            "Requirement already satisfied: pyasn1-modules>=0.2.1 in /usr/local/lib/python3.10/dist-packages (from google-auth<3,>=1.6.3->tensorboard<2.16,>=2.15->tensorflow) (0.4.0)\n",
            "Requirement already satisfied: rsa<5,>=3.1.4 in /usr/local/lib/python3.10/dist-packages (from google-auth<3,>=1.6.3->tensorboard<2.16,>=2.15->tensorflow) (4.9)\n",
            "Requirement already satisfied: requests-oauthlib>=0.7.0 in /usr/local/lib/python3.10/dist-packages (from google-auth-oauthlib<2,>=0.5->tensorboard<2.16,>=2.15->tensorflow) (1.3.1)\n",
            "Requirement already satisfied: charset-normalizer<4,>=2 in /usr/local/lib/python3.10/dist-packages (from requests<3,>=2.21.0->tensorboard<2.16,>=2.15->tensorflow) (3.3.2)\n",
            "Requirement already satisfied: idna<4,>=2.5 in /usr/local/lib/python3.10/dist-packages (from requests<3,>=2.21.0->tensorboard<2.16,>=2.15->tensorflow) (3.6)\n",
            "Requirement already satisfied: urllib3<3,>=1.21.1 in /usr/local/lib/python3.10/dist-packages (from requests<3,>=2.21.0->tensorboard<2.16,>=2.15->tensorflow) (2.0.7)\n",
            "Requirement already satisfied: certifi>=2017.4.17 in /usr/local/lib/python3.10/dist-packages (from requests<3,>=2.21.0->tensorboard<2.16,>=2.15->tensorflow) (2024.2.2)\n",
            "Requirement already satisfied: MarkupSafe>=2.1.1 in /usr/local/lib/python3.10/dist-packages (from werkzeug>=1.0.1->tensorboard<2.16,>=2.15->tensorflow) (2.1.5)\n",
            "Requirement already satisfied: pyasn1<0.7.0,>=0.4.6 in /usr/local/lib/python3.10/dist-packages (from pyasn1-modules>=0.2.1->google-auth<3,>=1.6.3->tensorboard<2.16,>=2.15->tensorflow) (0.6.0)\n",
            "Requirement already satisfied: oauthlib>=3.0.0 in /usr/local/lib/python3.10/dist-packages (from requests-oauthlib>=0.7.0->google-auth-oauthlib<2,>=0.5->tensorboard<2.16,>=2.15->tensorflow) (3.2.2)\n",
            "Requirement already satisfied: requests in /usr/local/lib/python3.10/dist-packages (2.31.0)\n",
            "Requirement already satisfied: charset-normalizer<4,>=2 in /usr/local/lib/python3.10/dist-packages (from requests) (3.3.2)\n",
            "Requirement already satisfied: idna<4,>=2.5 in /usr/local/lib/python3.10/dist-packages (from requests) (3.6)\n",
            "Requirement already satisfied: urllib3<3,>=1.21.1 in /usr/local/lib/python3.10/dist-packages (from requests) (2.0.7)\n",
            "Requirement already satisfied: certifi>=2017.4.17 in /usr/local/lib/python3.10/dist-packages (from requests) (2024.2.2)\n"
          ]
        }
      ],
      "source": [
        "!pip install tensorflow\n",
        "!pip install requests"
      ]
    },
    {
      "cell_type": "code",
      "source": [
        "import tensorflow as tf\n",
        "from tensorflow.keras.layers import Input, LSTM, Dense, Embedding\n",
        "from tensorflow.keras.models import Model\n",
        "import numpy as np\n",
        "import requests"
      ],
      "metadata": {
        "id": "-f8MOUKSr-Pf"
      },
      "execution_count": null,
      "outputs": []
    },
    {
      "cell_type": "code",
      "source": [
        "###ATTEMPT TO WEATHER API BUT DID NOT SUCCEED\n",
        "def get_weather(city_name):\n",
        "    api_key = 'zUt6MI4N474fzecdInv1PEYeXk4vIrdt'\n",
        "    base_url = 'http://api.openweathermap.org/data/2.5/weather'\n",
        "    params = {\n",
        "        'q': city_name + ',US',\n",
        "        'appid': api_key,\n",
        "        'units': 'metric'\n",
        "    }\n",
        "\n",
        "    response = requests.get(base_url, params=params)\n",
        "\n",
        "    if response.status_code == 200:\n",
        "        data = response.json()\n",
        "        weather_description = data['weather'][0]['description']\n",
        "        temperature = data['main']['temp']\n",
        "        humidity = data['main']['humidity']\n",
        "        return f\"The weather in {city_name} is {weather_description}. Temperature: {temperature}°C, Humidity: {humidity}%.\"\n",
        "    else:\n",
        "        return \"Can not predict weather tonight!\""
      ],
      "metadata": {
        "id": "VoYGhhFynk4s"
      },
      "execution_count": null,
      "outputs": []
    },
    {
      "cell_type": "code",
      "source": [
        "questions = [\n",
        "    'Hi',\n",
        "    'How are you?',\n",
        "    'What is your favorite color?',\n",
        "    'Do you have a heart?',\n",
        "    'Do you like movies?',\n",
        "    'Do you know what a unicorn is?'\n",
        "    'What is your name?',\n",
        "    'What is the time?',\n",
        "    'Can you play a game?',\n",
        "    'What is the Earth population?',\n",
        "    'What is the weather?'\n",
        "    ]"
      ],
      "metadata": {
        "id": "KvhiBv_CsgK_"
      },
      "execution_count": null,
      "outputs": []
    },
    {
      "cell_type": "code",
      "source": [
        "answers = [\n",
        "    'Hi. What is your question?',\n",
        "    'I am good.',\n",
        "    'I do not have a favorite color.',\n",
        "    'No I am a bot.',\n",
        "    'Yes I do know what a unicorn is.',\n",
        "    'I am bot',\n",
        "    'I do not have access to current time.',\n",
        "    'No but I can chat.',\n",
        "    'The population over 7 billion.',\n",
        "    'Yes the weather is'\n",
        "    ]"
      ],
      "metadata": {
        "id": "HL79VyA9tHY6"
      },
      "execution_count": null,
      "outputs": []
    },
    {
      "cell_type": "code",
      "source": [
        "tokenizer = tf.keras.preprocessing.text.Tokenizer()\n",
        "tokenizer.fit_on_texts(questions + answers)\n",
        "sequences_questions = tokenizer.texts_to_sequences(questions)\n",
        "sequences_answers = tokenizer.texts_to_sequences(answers)\n"
      ],
      "metadata": {
        "id": "XjzdiBVUukGc"
      },
      "execution_count": null,
      "outputs": []
    },
    {
      "cell_type": "code",
      "source": [
        "max_length = max(max(len(seq) for seq in sequences_questions),\n",
        "                 max(len(seq) for seq in sequences_answers))\n",
        "padded_questions = tf.keras.preprocessing.sequence.pad_sequences(sequences_questions, maxlen=max_length, padding = 'post')\n",
        "padded_answers = tf.keras.preprocessing.sequence.pad_sequences(sequences_answers, maxlen=max_length, padding='post')\n",
        "\n",
        "vocabsize = len(tokenizer.word_index) + 1"
      ],
      "metadata": {
        "id": "jfn2bs6xvQzJ"
      },
      "execution_count": null,
      "outputs": []
    },
    {
      "cell_type": "code",
      "source": [
        "embedding_dim = 256\n",
        "units = 1024\n",
        "\n",
        "encoder_inputs = Input(shape=(None,))\n",
        "encoder_embedding = Embedding(vocabsize, embedding_dim)(encoder_inputs)\n",
        "encoder_outputs, state_h, state_c = LSTM(units, return_state=True)(encoder_embedding)\n",
        "encoder_states = [state_h, state_c]\n",
        "\n",
        "decoder_inputs = Input(shape=(None,))\n",
        "decoder_embedding = Embedding(vocabsize, embedding_dim)(decoder_inputs)\n",
        "decoder_lstm = LSTM(units, return_sequences=True, return_state=True)\n",
        "decoder_outputs, _, _ = decoder_lstm(decoder_embedding, initial_state=encoder_states)\n",
        "decoder_dense = Dense(vocabsize, activation='softmax')\n",
        "decoder_outputs = decoder_dense(decoder_outputs)\n",
        "\n",
        "model = Model([encoder_inputs, decoder_inputs], decoder_outputs)\n",
        "\n",
        "model.compile(optimizer='rmsprop', loss='sparse_categorical_crossentropy', metrics=['accuracy'])\n",
        "\n",
        "model.summary()"
      ],
      "metadata": {
        "colab": {
          "base_uri": "https://localhost:8080/"
        },
        "id": "RVQLpYhoeK6l",
        "outputId": "8204f85f-94d2-4cc9-c8bb-da9e6673ec68"
      },
      "execution_count": null,
      "outputs": [
        {
          "output_type": "stream",
          "name": "stdout",
          "text": [
            "Model: \"model_3\"\n",
            "__________________________________________________________________________________________________\n",
            " Layer (type)                Output Shape                 Param #   Connected to                  \n",
            "==================================================================================================\n",
            " input_7 (InputLayer)        [(None, None)]               0         []                            \n",
            "                                                                                                  \n",
            " input_8 (InputLayer)        [(None, None)]               0         []                            \n",
            "                                                                                                  \n",
            " embedding_6 (Embedding)     (None, None, 256)            11008     ['input_7[0][0]']             \n",
            "                                                                                                  \n",
            " embedding_7 (Embedding)     (None, None, 256)            11008     ['input_8[0][0]']             \n",
            "                                                                                                  \n",
            " lstm_6 (LSTM)               [(None, 1024),               5246976   ['embedding_6[0][0]']         \n",
            "                              (None, 1024),                                                       \n",
            "                              (None, 1024)]                                                       \n",
            "                                                                                                  \n",
            " lstm_7 (LSTM)               [(None, None, 1024),         5246976   ['embedding_7[0][0]',         \n",
            "                              (None, 1024),                          'lstm_6[0][1]',              \n",
            "                              (None, 1024)]                          'lstm_6[0][2]']              \n",
            "                                                                                                  \n",
            " dense_3 (Dense)             (None, None, 43)             44075     ['lstm_7[0][0]']              \n",
            "                                                                                                  \n",
            "==================================================================================================\n",
            "Total params: 10560043 (40.28 MB)\n",
            "Trainable params: 10560043 (40.28 MB)\n",
            "Non-trainable params: 0 (0.00 Byte)\n",
            "__________________________________________________________________________________________________\n"
          ]
        }
      ]
    },
    {
      "cell_type": "code",
      "source": [
        "decoder_input_data = np.zeros_like(padded_answers)\n",
        "decoder_input_data[:, 0] = 1  # Assuming 1 is the start token\n",
        "# Train the model\n",
        "model.fit([padded_questions, decoder_input_data], np.expand_dims(padded_answers, -1), batch_size=2, epochs=100)"
      ],
      "metadata": {
        "colab": {
          "base_uri": "https://localhost:8080/"
        },
        "id": "6EcG9Ogce_ox",
        "outputId": "1637e574-cd3b-47fc-bec9-1ea2a90a77b1"
      },
      "execution_count": null,
      "outputs": [
        {
          "output_type": "stream",
          "name": "stdout",
          "text": [
            "Epoch 1/100\n",
            "5/5 [==============================] - 3s 66ms/step - loss: 3.3404 - accuracy: 0.4364\n",
            "Epoch 2/100\n",
            "5/5 [==============================] - 0s 15ms/step - loss: 2.2680 - accuracy: 0.5364\n",
            "Epoch 3/100\n",
            "5/5 [==============================] - 0s 14ms/step - loss: 2.1034 - accuracy: 0.5636\n",
            "Epoch 4/100\n",
            "5/5 [==============================] - 0s 14ms/step - loss: 2.0528 - accuracy: 0.5636\n",
            "Epoch 5/100\n",
            "5/5 [==============================] - 0s 28ms/step - loss: 1.9818 - accuracy: 0.5636\n",
            "Epoch 6/100\n",
            "5/5 [==============================] - 0s 12ms/step - loss: 1.9547 - accuracy: 0.5727\n",
            "Epoch 7/100\n",
            "5/5 [==============================] - 0s 12ms/step - loss: 1.8997 - accuracy: 0.5818\n",
            "Epoch 8/100\n",
            "5/5 [==============================] - 0s 11ms/step - loss: 2.0144 - accuracy: 0.5545\n",
            "Epoch 9/100\n",
            "5/5 [==============================] - 0s 12ms/step - loss: 1.7838 - accuracy: 0.5818\n",
            "Epoch 10/100\n",
            "5/5 [==============================] - 0s 12ms/step - loss: 1.8475 - accuracy: 0.5636\n",
            "Epoch 11/100\n",
            "5/5 [==============================] - 0s 11ms/step - loss: 1.7609 - accuracy: 0.5909\n",
            "Epoch 12/100\n",
            "5/5 [==============================] - 0s 11ms/step - loss: 1.6508 - accuracy: 0.5455\n",
            "Epoch 13/100\n",
            "5/5 [==============================] - 0s 11ms/step - loss: 1.7158 - accuracy: 0.5636\n",
            "Epoch 14/100\n",
            "5/5 [==============================] - 0s 11ms/step - loss: 1.6246 - accuracy: 0.5455\n",
            "Epoch 15/100\n",
            "5/5 [==============================] - 0s 11ms/step - loss: 1.5869 - accuracy: 0.5455\n",
            "Epoch 16/100\n",
            "5/5 [==============================] - 0s 12ms/step - loss: 1.5801 - accuracy: 0.5364\n",
            "Epoch 17/100\n",
            "5/5 [==============================] - 0s 11ms/step - loss: 1.5193 - accuracy: 0.5727\n",
            "Epoch 18/100\n",
            "5/5 [==============================] - 0s 11ms/step - loss: 1.4776 - accuracy: 0.5727\n",
            "Epoch 19/100\n",
            "5/5 [==============================] - 0s 11ms/step - loss: 1.5334 - accuracy: 0.5727\n",
            "Epoch 20/100\n",
            "5/5 [==============================] - 0s 12ms/step - loss: 1.5438 - accuracy: 0.5545\n",
            "Epoch 21/100\n",
            "5/5 [==============================] - 0s 13ms/step - loss: 1.4391 - accuracy: 0.5818\n",
            "Epoch 22/100\n",
            "5/5 [==============================] - 0s 15ms/step - loss: 1.3834 - accuracy: 0.5727\n",
            "Epoch 23/100\n",
            "5/5 [==============================] - 0s 14ms/step - loss: 1.5804 - accuracy: 0.5364\n",
            "Epoch 24/100\n",
            "5/5 [==============================] - 0s 13ms/step - loss: 1.4563 - accuracy: 0.6000\n",
            "Epoch 25/100\n",
            "5/5 [==============================] - 0s 14ms/step - loss: 1.4350 - accuracy: 0.5455\n",
            "Epoch 26/100\n",
            "5/5 [==============================] - 0s 14ms/step - loss: 1.3948 - accuracy: 0.5909\n",
            "Epoch 27/100\n",
            "5/5 [==============================] - 0s 13ms/step - loss: 1.3234 - accuracy: 0.6091\n",
            "Epoch 28/100\n",
            "5/5 [==============================] - 0s 13ms/step - loss: 1.3612 - accuracy: 0.5727\n",
            "Epoch 29/100\n",
            "5/5 [==============================] - 0s 12ms/step - loss: 1.3930 - accuracy: 0.5909\n",
            "Epoch 30/100\n",
            "5/5 [==============================] - 0s 14ms/step - loss: 1.3304 - accuracy: 0.5909\n",
            "Epoch 31/100\n",
            "5/5 [==============================] - 0s 13ms/step - loss: 1.2958 - accuracy: 0.6091\n",
            "Epoch 32/100\n",
            "5/5 [==============================] - 0s 12ms/step - loss: 1.1547 - accuracy: 0.6455\n",
            "Epoch 33/100\n",
            "5/5 [==============================] - 0s 13ms/step - loss: 1.1689 - accuracy: 0.6364\n",
            "Epoch 34/100\n",
            "5/5 [==============================] - 0s 19ms/step - loss: 1.3981 - accuracy: 0.5455\n",
            "Epoch 35/100\n",
            "5/5 [==============================] - 0s 18ms/step - loss: 1.1295 - accuracy: 0.6000\n",
            "Epoch 36/100\n",
            "5/5 [==============================] - 0s 13ms/step - loss: 1.0127 - accuracy: 0.6455\n",
            "Epoch 37/100\n",
            "5/5 [==============================] - 0s 15ms/step - loss: 0.9414 - accuracy: 0.6364\n",
            "Epoch 38/100\n",
            "5/5 [==============================] - 0s 14ms/step - loss: 1.0212 - accuracy: 0.6545\n",
            "Epoch 39/100\n",
            "5/5 [==============================] - 0s 13ms/step - loss: 1.3028 - accuracy: 0.5545\n",
            "Epoch 40/100\n",
            "5/5 [==============================] - 0s 14ms/step - loss: 1.3178 - accuracy: 0.5545\n",
            "Epoch 41/100\n",
            "5/5 [==============================] - 0s 13ms/step - loss: 0.9965 - accuracy: 0.6455\n",
            "Epoch 42/100\n",
            "5/5 [==============================] - 0s 13ms/step - loss: 0.8897 - accuracy: 0.6909\n",
            "Epoch 43/100\n",
            "5/5 [==============================] - 0s 24ms/step - loss: 0.9127 - accuracy: 0.6000\n",
            "Epoch 44/100\n",
            "5/5 [==============================] - 0s 19ms/step - loss: 1.0764 - accuracy: 0.6091\n",
            "Epoch 45/100\n",
            "5/5 [==============================] - 0s 14ms/step - loss: 0.9965 - accuracy: 0.6909\n",
            "Epoch 46/100\n",
            "5/5 [==============================] - 0s 15ms/step - loss: 0.9101 - accuracy: 0.6727\n",
            "Epoch 47/100\n",
            "5/5 [==============================] - 0s 14ms/step - loss: 0.7873 - accuracy: 0.6545\n",
            "Epoch 48/100\n",
            "5/5 [==============================] - 0s 14ms/step - loss: 0.8179 - accuracy: 0.7000\n",
            "Epoch 49/100\n",
            "5/5 [==============================] - 0s 11ms/step - loss: 0.7747 - accuracy: 0.7091\n",
            "Epoch 50/100\n",
            "5/5 [==============================] - 0s 11ms/step - loss: 0.8257 - accuracy: 0.6545\n",
            "Epoch 51/100\n",
            "5/5 [==============================] - 0s 11ms/step - loss: 1.0753 - accuracy: 0.5636\n",
            "Epoch 52/100\n",
            "5/5 [==============================] - 0s 14ms/step - loss: 0.7450 - accuracy: 0.6909\n",
            "Epoch 53/100\n",
            "5/5 [==============================] - 0s 14ms/step - loss: 0.9793 - accuracy: 0.6545\n",
            "Epoch 54/100\n",
            "5/5 [==============================] - 0s 11ms/step - loss: 0.7912 - accuracy: 0.6818\n",
            "Epoch 55/100\n",
            "5/5 [==============================] - 0s 11ms/step - loss: 0.6995 - accuracy: 0.7000\n",
            "Epoch 56/100\n",
            "5/5 [==============================] - 0s 11ms/step - loss: 0.7055 - accuracy: 0.7455\n",
            "Epoch 57/100\n",
            "5/5 [==============================] - 0s 11ms/step - loss: 0.7595 - accuracy: 0.6818\n",
            "Epoch 58/100\n",
            "5/5 [==============================] - 0s 11ms/step - loss: 0.7332 - accuracy: 0.7091\n",
            "Epoch 59/100\n",
            "5/5 [==============================] - 0s 11ms/step - loss: 0.6276 - accuracy: 0.7909\n",
            "Epoch 60/100\n",
            "5/5 [==============================] - 0s 11ms/step - loss: 0.7464 - accuracy: 0.7727\n",
            "Epoch 61/100\n",
            "5/5 [==============================] - 0s 11ms/step - loss: 0.5575 - accuracy: 0.7909\n",
            "Epoch 62/100\n",
            "5/5 [==============================] - 0s 12ms/step - loss: 0.8091 - accuracy: 0.6545\n",
            "Epoch 63/100\n",
            "5/5 [==============================] - 0s 11ms/step - loss: 0.6700 - accuracy: 0.7636\n",
            "Epoch 64/100\n",
            "5/5 [==============================] - 0s 12ms/step - loss: 0.4155 - accuracy: 0.8636\n",
            "Epoch 65/100\n",
            "5/5 [==============================] - 0s 11ms/step - loss: 0.5074 - accuracy: 0.8182\n",
            "Epoch 66/100\n",
            "5/5 [==============================] - 0s 12ms/step - loss: 0.7735 - accuracy: 0.7091\n",
            "Epoch 67/100\n",
            "5/5 [==============================] - 0s 11ms/step - loss: 0.7077 - accuracy: 0.7364\n",
            "Epoch 68/100\n",
            "5/5 [==============================] - 0s 11ms/step - loss: 0.4969 - accuracy: 0.7727\n",
            "Epoch 69/100\n",
            "5/5 [==============================] - 0s 11ms/step - loss: 0.5334 - accuracy: 0.8000\n",
            "Epoch 70/100\n",
            "5/5 [==============================] - 0s 11ms/step - loss: 0.3458 - accuracy: 0.8636\n",
            "Epoch 71/100\n",
            "5/5 [==============================] - 0s 11ms/step - loss: 0.6824 - accuracy: 0.8000\n",
            "Epoch 72/100\n",
            "5/5 [==============================] - 0s 11ms/step - loss: 0.3837 - accuracy: 0.8364\n",
            "Epoch 73/100\n",
            "5/5 [==============================] - 0s 11ms/step - loss: 0.8136 - accuracy: 0.7455\n",
            "Epoch 74/100\n",
            "5/5 [==============================] - 0s 11ms/step - loss: 0.2882 - accuracy: 0.9091\n",
            "Epoch 75/100\n",
            "5/5 [==============================] - 0s 11ms/step - loss: 0.2330 - accuracy: 0.9364\n",
            "Epoch 76/100\n",
            "5/5 [==============================] - 0s 11ms/step - loss: 0.2057 - accuracy: 0.9455\n",
            "Epoch 77/100\n",
            "5/5 [==============================] - 0s 11ms/step - loss: 0.2159 - accuracy: 0.9182\n",
            "Epoch 78/100\n",
            "5/5 [==============================] - 0s 12ms/step - loss: 0.3121 - accuracy: 0.8818\n",
            "Epoch 79/100\n",
            "5/5 [==============================] - 0s 11ms/step - loss: 0.6215 - accuracy: 0.7545\n",
            "Epoch 80/100\n",
            "5/5 [==============================] - 0s 11ms/step - loss: 0.9823 - accuracy: 0.6091\n",
            "Epoch 81/100\n",
            "5/5 [==============================] - 0s 11ms/step - loss: 0.6350 - accuracy: 0.7636\n",
            "Epoch 82/100\n",
            "5/5 [==============================] - 0s 11ms/step - loss: 0.3204 - accuracy: 0.8182\n",
            "Epoch 83/100\n",
            "5/5 [==============================] - 0s 11ms/step - loss: 0.3853 - accuracy: 0.8000\n",
            "Epoch 84/100\n",
            "5/5 [==============================] - 0s 12ms/step - loss: 0.4034 - accuracy: 0.8455\n",
            "Epoch 85/100\n",
            "5/5 [==============================] - 0s 11ms/step - loss: 0.3397 - accuracy: 0.8182\n",
            "Epoch 86/100\n",
            "5/5 [==============================] - 0s 11ms/step - loss: 0.2474 - accuracy: 0.9273\n",
            "Epoch 87/100\n",
            "5/5 [==============================] - 0s 11ms/step - loss: 0.1671 - accuracy: 0.9273\n",
            "Epoch 88/100\n",
            "5/5 [==============================] - 0s 11ms/step - loss: 0.2978 - accuracy: 0.8273\n",
            "Epoch 89/100\n",
            "5/5 [==============================] - 0s 11ms/step - loss: 0.3536 - accuracy: 0.8545\n",
            "Epoch 90/100\n",
            "5/5 [==============================] - 0s 11ms/step - loss: 0.1919 - accuracy: 0.9273\n",
            "Epoch 91/100\n",
            "5/5 [==============================] - 0s 11ms/step - loss: 0.1553 - accuracy: 0.9364\n",
            "Epoch 92/100\n",
            "5/5 [==============================] - 0s 11ms/step - loss: 0.1940 - accuracy: 0.8545\n",
            "Epoch 93/100\n",
            "5/5 [==============================] - 0s 11ms/step - loss: 0.1806 - accuracy: 0.9273\n",
            "Epoch 94/100\n",
            "5/5 [==============================] - 0s 12ms/step - loss: 0.3810 - accuracy: 0.8273\n",
            "Epoch 95/100\n",
            "5/5 [==============================] - 0s 11ms/step - loss: 0.8313 - accuracy: 0.7727\n",
            "Epoch 96/100\n",
            "5/5 [==============================] - 0s 11ms/step - loss: 0.2877 - accuracy: 0.8364\n",
            "Epoch 97/100\n",
            "5/5 [==============================] - 0s 11ms/step - loss: 0.6147 - accuracy: 0.7545\n",
            "Epoch 98/100\n",
            "5/5 [==============================] - 0s 11ms/step - loss: 0.3019 - accuracy: 0.8273\n",
            "Epoch 99/100\n",
            "5/5 [==============================] - 0s 11ms/step - loss: 0.1158 - accuracy: 0.9909\n",
            "Epoch 100/100\n",
            "5/5 [==============================] - 0s 12ms/step - loss: 0.0793 - accuracy: 1.0000\n"
          ]
        },
        {
          "output_type": "execute_result",
          "data": {
            "text/plain": [
              "<keras.src.callbacks.History at 0x7b647d0cc730>"
            ]
          },
          "metadata": {},
          "execution_count": 34
        }
      ]
    },
    {
      "cell_type": "code",
      "source": [
        "def preprocess_input_text(input_text):\n",
        "    sequence = tokenizer.texts_to_sequences([input_text])\n",
        "    padded_sequence = tf.keras.preprocessing.sequence.pad_sequences(sequence, maxlen=max_length, padding='post')\n",
        "    return padded_sequence\n",
        "\n",
        "def generate_response(input_sequence):\n",
        "    response_sequence = np.zeros((1, max_length))\n",
        "    response_sequence[0, 0] = 1  # start token\n",
        "    for i in range(1, max_length):\n",
        "        prediction = model.predict([input_sequence, response_sequence]).argmax(axis=2)\n",
        "        response_sequence[0, i] = prediction[0, i-1]\n",
        "        if prediction[0, i-1] == 2:  # end token\n",
        "            break\n",
        "    return response_sequence\n",
        "\n",
        "def sequence_to_text(sequence):\n",
        "    return ' '.join(tokenizer.index_word.get(i, '') for i in sequence if i > 2)\n",
        "\n",
        "def chat_with_bot(input_text):\n",
        "    input_sequence = preprocess_input_text(input_text)\n",
        "    response_sequence = generate_response(input_sequence)\n",
        "    response_text = sequence_to_text(response_sequence[0])\n",
        "    return response_text"
      ],
      "metadata": {
        "id": "CfQyBv4JjYBQ"
      },
      "execution_count": null,
      "outputs": []
    },
    {
      "cell_type": "code",
      "source": [
        "print(\"Type to chat. Ask a question? Type 'quit' to exit.\")\n",
        "while True:\n",
        "    user_input = input(\"You: \")\n",
        "    if user_input.lower() == 'quit':\n",
        "        break\n",
        "    response = chat_with_bot(user_input)\n",
        "    print(f\"Bot: {response}\")"
      ],
      "metadata": {
        "colab": {
          "base_uri": "https://localhost:8080/"
        },
        "id": "_ujs8UJQi5h8",
        "outputId": "9bf96f3c-698a-47d1-be4a-b7bf21059629"
      },
      "execution_count": null,
      "outputs": [
        {
          "name": "stdout",
          "output_type": "stream",
          "text": [
            "Type to chat. Ask a question? Type 'quit' to exit.\n",
            "You: what is the weather>\n",
            "1/1 [==============================] - 1s 709ms/step\n",
            "1/1 [==============================] - 0s 21ms/step\n",
            "1/1 [==============================] - 0s 21ms/step\n",
            "1/1 [==============================] - 0s 22ms/step\n",
            "1/1 [==============================] - 0s 21ms/step\n",
            "1/1 [==============================] - 0s 20ms/step\n",
            "1/1 [==============================] - 0s 20ms/step\n",
            "1/1 [==============================] - 0s 22ms/step\n",
            "1/1 [==============================] - 0s 23ms/step\n",
            "1/1 [==============================] - 0s 22ms/step\n",
            "Bot: yes the weather\n",
            "You: what is the weather in new york?\n",
            "1/1 [==============================] - 0s 22ms/step\n",
            "1/1 [==============================] - 0s 22ms/step\n",
            "1/1 [==============================] - 0s 20ms/step\n",
            "1/1 [==============================] - 0s 20ms/step\n",
            "1/1 [==============================] - 0s 20ms/step\n",
            "1/1 [==============================] - 0s 23ms/step\n",
            "1/1 [==============================] - 0s 21ms/step\n",
            "1/1 [==============================] - 0s 20ms/step\n",
            "1/1 [==============================] - 0s 20ms/step\n",
            "1/1 [==============================] - 0s 21ms/step\n",
            "Bot: yes the weather\n",
            "You: quit\n"
          ]
        }
      ]
    }
  ]
}